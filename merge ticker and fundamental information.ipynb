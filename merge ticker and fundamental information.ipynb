{
 "cells": [
  {
   "cell_type": "code",
   "execution_count": 3,
   "metadata": {
    "collapsed": true
   },
   "outputs": [],
   "source": [
    "import os\n",
    "import csv\n",
    "import pandas as pd\n",
    "import numpy as np\n",
    "import copy"
   ]
  },
  {
   "cell_type": "code",
   "execution_count": 5,
   "metadata": {},
   "outputs": [
    {
     "ename": "FileNotFoundError",
     "evalue": "File b'/Users/Irene/Desktop/M/result1.csv' does not exist",
     "output_type": "error",
     "traceback": [
      "\u001b[0;31m---------------------------------------------------------------------------\u001b[0m",
      "\u001b[0;31mFileNotFoundError\u001b[0m                         Traceback (most recent call last)",
      "\u001b[0;32m<ipython-input-5-f7ae054ab35c>\u001b[0m in \u001b[0;36m<module>\u001b[0;34m()\u001b[0m\n\u001b[1;32m      9\u001b[0m \u001b[0;31m# Firstly add ticker into report\u001b[0m\u001b[0;34m\u001b[0m\u001b[0;34m\u001b[0m\u001b[0;34m\u001b[0m\u001b[0m\n\u001b[1;32m     10\u001b[0m \u001b[0mpath\u001b[0m\u001b[0;34m=\u001b[0m\u001b[0;34m'/Users/Irene/Desktop/M/'\u001b[0m\u001b[0;34m\u001b[0m\u001b[0;34m\u001b[0m\u001b[0m\n\u001b[0;32m---> 11\u001b[0;31m \u001b[0mdf\u001b[0m \u001b[0;34m=\u001b[0m \u001b[0mpd\u001b[0m\u001b[0;34m.\u001b[0m\u001b[0mread_csv\u001b[0m\u001b[0;34m(\u001b[0m\u001b[0mpath\u001b[0m\u001b[0;34m+\u001b[0m\u001b[0;34m'result1.csv'\u001b[0m\u001b[0;34m)\u001b[0m\u001b[0;34m\u001b[0m\u001b[0;34m\u001b[0m\u001b[0m\n\u001b[0m\u001b[1;32m     12\u001b[0m \u001b[0mdf\u001b[0m\u001b[0;34m\u001b[0m\u001b[0;34m\u001b[0m\u001b[0m\n\u001b[1;32m     13\u001b[0m \u001b[0;34m\u001b[0m\u001b[0m\n",
      "\u001b[0;32m/Users/Irene/anaconda/lib/python3.6/site-packages/pandas/io/parsers.py\u001b[0m in \u001b[0;36mparser_f\u001b[0;34m(filepath_or_buffer, sep, delimiter, header, names, index_col, usecols, squeeze, prefix, mangle_dupe_cols, dtype, engine, converters, true_values, false_values, skipinitialspace, skiprows, nrows, na_values, keep_default_na, na_filter, verbose, skip_blank_lines, parse_dates, infer_datetime_format, keep_date_col, date_parser, dayfirst, iterator, chunksize, compression, thousands, decimal, lineterminator, quotechar, quoting, escapechar, comment, encoding, dialect, tupleize_cols, error_bad_lines, warn_bad_lines, skipfooter, doublequote, delim_whitespace, low_memory, memory_map, float_precision)\u001b[0m\n\u001b[1;32m    676\u001b[0m                     skip_blank_lines=skip_blank_lines)\n\u001b[1;32m    677\u001b[0m \u001b[0;34m\u001b[0m\u001b[0m\n\u001b[0;32m--> 678\u001b[0;31m         \u001b[0;32mreturn\u001b[0m \u001b[0m_read\u001b[0m\u001b[0;34m(\u001b[0m\u001b[0mfilepath_or_buffer\u001b[0m\u001b[0;34m,\u001b[0m \u001b[0mkwds\u001b[0m\u001b[0;34m)\u001b[0m\u001b[0;34m\u001b[0m\u001b[0;34m\u001b[0m\u001b[0m\n\u001b[0m\u001b[1;32m    679\u001b[0m \u001b[0;34m\u001b[0m\u001b[0m\n\u001b[1;32m    680\u001b[0m     \u001b[0mparser_f\u001b[0m\u001b[0;34m.\u001b[0m\u001b[0m__name__\u001b[0m \u001b[0;34m=\u001b[0m \u001b[0mname\u001b[0m\u001b[0;34m\u001b[0m\u001b[0;34m\u001b[0m\u001b[0m\n",
      "\u001b[0;32m/Users/Irene/anaconda/lib/python3.6/site-packages/pandas/io/parsers.py\u001b[0m in \u001b[0;36m_read\u001b[0;34m(filepath_or_buffer, kwds)\u001b[0m\n\u001b[1;32m    438\u001b[0m \u001b[0;34m\u001b[0m\u001b[0m\n\u001b[1;32m    439\u001b[0m     \u001b[0;31m# Create the parser.\u001b[0m\u001b[0;34m\u001b[0m\u001b[0;34m\u001b[0m\u001b[0;34m\u001b[0m\u001b[0m\n\u001b[0;32m--> 440\u001b[0;31m     \u001b[0mparser\u001b[0m \u001b[0;34m=\u001b[0m \u001b[0mTextFileReader\u001b[0m\u001b[0;34m(\u001b[0m\u001b[0mfilepath_or_buffer\u001b[0m\u001b[0;34m,\u001b[0m \u001b[0;34m**\u001b[0m\u001b[0mkwds\u001b[0m\u001b[0;34m)\u001b[0m\u001b[0;34m\u001b[0m\u001b[0;34m\u001b[0m\u001b[0m\n\u001b[0m\u001b[1;32m    441\u001b[0m \u001b[0;34m\u001b[0m\u001b[0m\n\u001b[1;32m    442\u001b[0m     \u001b[0;32mif\u001b[0m \u001b[0mchunksize\u001b[0m \u001b[0;32mor\u001b[0m \u001b[0miterator\u001b[0m\u001b[0;34m:\u001b[0m\u001b[0;34m\u001b[0m\u001b[0;34m\u001b[0m\u001b[0m\n",
      "\u001b[0;32m/Users/Irene/anaconda/lib/python3.6/site-packages/pandas/io/parsers.py\u001b[0m in \u001b[0;36m__init__\u001b[0;34m(self, f, engine, **kwds)\u001b[0m\n\u001b[1;32m    785\u001b[0m             \u001b[0mself\u001b[0m\u001b[0;34m.\u001b[0m\u001b[0moptions\u001b[0m\u001b[0;34m[\u001b[0m\u001b[0;34m'has_index_names'\u001b[0m\u001b[0;34m]\u001b[0m \u001b[0;34m=\u001b[0m \u001b[0mkwds\u001b[0m\u001b[0;34m[\u001b[0m\u001b[0;34m'has_index_names'\u001b[0m\u001b[0;34m]\u001b[0m\u001b[0;34m\u001b[0m\u001b[0;34m\u001b[0m\u001b[0m\n\u001b[1;32m    786\u001b[0m \u001b[0;34m\u001b[0m\u001b[0m\n\u001b[0;32m--> 787\u001b[0;31m         \u001b[0mself\u001b[0m\u001b[0;34m.\u001b[0m\u001b[0m_make_engine\u001b[0m\u001b[0;34m(\u001b[0m\u001b[0mself\u001b[0m\u001b[0;34m.\u001b[0m\u001b[0mengine\u001b[0m\u001b[0;34m)\u001b[0m\u001b[0;34m\u001b[0m\u001b[0;34m\u001b[0m\u001b[0m\n\u001b[0m\u001b[1;32m    788\u001b[0m \u001b[0;34m\u001b[0m\u001b[0m\n\u001b[1;32m    789\u001b[0m     \u001b[0;32mdef\u001b[0m \u001b[0mclose\u001b[0m\u001b[0;34m(\u001b[0m\u001b[0mself\u001b[0m\u001b[0;34m)\u001b[0m\u001b[0;34m:\u001b[0m\u001b[0;34m\u001b[0m\u001b[0;34m\u001b[0m\u001b[0m\n",
      "\u001b[0;32m/Users/Irene/anaconda/lib/python3.6/site-packages/pandas/io/parsers.py\u001b[0m in \u001b[0;36m_make_engine\u001b[0;34m(self, engine)\u001b[0m\n\u001b[1;32m   1012\u001b[0m     \u001b[0;32mdef\u001b[0m \u001b[0m_make_engine\u001b[0m\u001b[0;34m(\u001b[0m\u001b[0mself\u001b[0m\u001b[0;34m,\u001b[0m \u001b[0mengine\u001b[0m\u001b[0;34m=\u001b[0m\u001b[0;34m'c'\u001b[0m\u001b[0;34m)\u001b[0m\u001b[0;34m:\u001b[0m\u001b[0;34m\u001b[0m\u001b[0;34m\u001b[0m\u001b[0m\n\u001b[1;32m   1013\u001b[0m         \u001b[0;32mif\u001b[0m \u001b[0mengine\u001b[0m \u001b[0;34m==\u001b[0m \u001b[0;34m'c'\u001b[0m\u001b[0;34m:\u001b[0m\u001b[0;34m\u001b[0m\u001b[0;34m\u001b[0m\u001b[0m\n\u001b[0;32m-> 1014\u001b[0;31m             \u001b[0mself\u001b[0m\u001b[0;34m.\u001b[0m\u001b[0m_engine\u001b[0m \u001b[0;34m=\u001b[0m \u001b[0mCParserWrapper\u001b[0m\u001b[0;34m(\u001b[0m\u001b[0mself\u001b[0m\u001b[0;34m.\u001b[0m\u001b[0mf\u001b[0m\u001b[0;34m,\u001b[0m \u001b[0;34m**\u001b[0m\u001b[0mself\u001b[0m\u001b[0;34m.\u001b[0m\u001b[0moptions\u001b[0m\u001b[0;34m)\u001b[0m\u001b[0;34m\u001b[0m\u001b[0;34m\u001b[0m\u001b[0m\n\u001b[0m\u001b[1;32m   1015\u001b[0m         \u001b[0;32melse\u001b[0m\u001b[0;34m:\u001b[0m\u001b[0;34m\u001b[0m\u001b[0;34m\u001b[0m\u001b[0m\n\u001b[1;32m   1016\u001b[0m             \u001b[0;32mif\u001b[0m \u001b[0mengine\u001b[0m \u001b[0;34m==\u001b[0m \u001b[0;34m'python'\u001b[0m\u001b[0;34m:\u001b[0m\u001b[0;34m\u001b[0m\u001b[0;34m\u001b[0m\u001b[0m\n",
      "\u001b[0;32m/Users/Irene/anaconda/lib/python3.6/site-packages/pandas/io/parsers.py\u001b[0m in \u001b[0;36m__init__\u001b[0;34m(self, src, **kwds)\u001b[0m\n\u001b[1;32m   1706\u001b[0m         \u001b[0mkwds\u001b[0m\u001b[0;34m[\u001b[0m\u001b[0;34m'usecols'\u001b[0m\u001b[0;34m]\u001b[0m \u001b[0;34m=\u001b[0m \u001b[0mself\u001b[0m\u001b[0;34m.\u001b[0m\u001b[0musecols\u001b[0m\u001b[0;34m\u001b[0m\u001b[0;34m\u001b[0m\u001b[0m\n\u001b[1;32m   1707\u001b[0m \u001b[0;34m\u001b[0m\u001b[0m\n\u001b[0;32m-> 1708\u001b[0;31m         \u001b[0mself\u001b[0m\u001b[0;34m.\u001b[0m\u001b[0m_reader\u001b[0m \u001b[0;34m=\u001b[0m \u001b[0mparsers\u001b[0m\u001b[0;34m.\u001b[0m\u001b[0mTextReader\u001b[0m\u001b[0;34m(\u001b[0m\u001b[0msrc\u001b[0m\u001b[0;34m,\u001b[0m \u001b[0;34m**\u001b[0m\u001b[0mkwds\u001b[0m\u001b[0;34m)\u001b[0m\u001b[0;34m\u001b[0m\u001b[0;34m\u001b[0m\u001b[0m\n\u001b[0m\u001b[1;32m   1709\u001b[0m \u001b[0;34m\u001b[0m\u001b[0m\n\u001b[1;32m   1710\u001b[0m         \u001b[0mpassed_names\u001b[0m \u001b[0;34m=\u001b[0m \u001b[0mself\u001b[0m\u001b[0;34m.\u001b[0m\u001b[0mnames\u001b[0m \u001b[0;32mis\u001b[0m \u001b[0;32mNone\u001b[0m\u001b[0;34m\u001b[0m\u001b[0;34m\u001b[0m\u001b[0m\n",
      "\u001b[0;32mpandas/_libs/parsers.pyx\u001b[0m in \u001b[0;36mpandas._libs.parsers.TextReader.__cinit__ (pandas/_libs/parsers.c:4278)\u001b[0;34m()\u001b[0m\n",
      "\u001b[0;32mpandas/_libs/parsers.pyx\u001b[0m in \u001b[0;36mpandas._libs.parsers.TextReader._setup_parser_source (pandas/_libs/parsers.c:8902)\u001b[0;34m()\u001b[0m\n",
      "\u001b[0;31mFileNotFoundError\u001b[0m: File b'/Users/Irene/Desktop/M/result1.csv' does not exist"
     ]
    }
   ],
   "source": [
    "# This file firsly adds ticker symbol to \"result.csv\" file whose features come as ['CIK','DATE', 'Name', 'CUSIP', 'Market value','Share']\n",
    "# secondly, merge fundamental information into final report\n",
    "\n",
    "# Set variables \n",
    "pd.options.display.max_rows=1000\n",
    "pd.options.display.max_columns=1000\n",
    "pd.options.display.max_rows=1000\n",
    "\n",
    "# Firstly add ticker into report\n",
    "path='/Users/Irene/Desktop/M/'\n",
    "df = pd.read_csv(path+'result1.csv')\n",
    "df\n",
    "\n",
    "df['location']=[-1 for i in range(len(df))]\n",
    "df['symble']=df['symble'].str.upper() \n",
    "# df\n",
    "for i in os.listdir(path):\n",
    "    if os.path.getsize(path+i)<=0:\n",
    "        continue\n",
    "    with open(path+i,'r') as f:\n",
    "        tmp = f.readline()\n",
    "        sym = tmp.split(',')[0]\n",
    "        print(sym)\n",
    "        df.loc[ df['symble']==sym.upper(),'location']=int(i.split('.')[0])\n",
    "\n",
    "check1=df.loc[df['location']==-1]\n",
    "\n",
    "lst=[]\n",
    "for i in os.listdir(path):\n",
    "    if os.path.getsize(path+i)<=0:\n",
    "        lst.append(i.split('.')[0])\n",
    "        print(path+i)\n",
    "print(len(lst))\n",
    "print(lst)\n",
    "\n",
    "\n",
    "df1=pd.read_csv('/Users/Irene/Desktop/M/result1.csv')\n",
    "df2=pd.read_csv('/Users/Irene/Desktop/M/check_copy.csv')\n",
    "\n",
    "for i in range(len(df2)):\n",
    "    df1.loc[ df1['Name']==df2.loc[i,'Name'],'symble' ]=df2.loc[i,'symble']\n",
    "df1.to_csv('/Users/Irene/Desktop/M/ticker_name.csv')\n",
    "\n",
    "name = pd.read_csv('/Users/Irene/Desktop/M/final/result.csv')\n",
    "ticker_name=pd.read_csv('/Users/Irene/Desktop/M/ticker_name.csv')\n",
    "merge_name_and_ticker = pd.merge(name,ticker_name,on='Name')\n",
    "\n",
    "merge_name_and_ticker.rename(columns={'DATE':'end_date','symble':'symbol'}, inplace=True)\n",
    "\n",
    "for i in range(len(merge_name_and_ticker)):\n",
    "    date = str(merge_name_and_ticker.loc[i,'end_date'])\n",
    "    print(date)\n",
    "    new_date=date[0:4]+'-'+date[4:6]+'-'+date[6:]\n",
    "    print(new_date)\n",
    "    merge_name_and_ticker.loc[i,'end_date']=new_date\n",
    "    merge_name_and_ticker.loc[i,'symbol']=merge_name_and_ticker.loc[i,'symbol'].upper()\n",
    "\n",
    "merge_name_and_ticker_backup=copy.deepcopy(merge_name_and_ticker)"
   ]
  },
  {
   "cell_type": "code",
   "execution_count": null,
   "metadata": {
    "collapsed": true
   },
   "outputs": [],
   "source": [
    "# Secondly add fundamental information \n",
    "\n",
    "merge_name_and_ticker=merge_name_and_ticker_backup.copy()\n",
    "merge_name_and_ticker['seq']=-1\n",
    "\n",
    "merge_name_and_ticker_symbol= list(set(merge_name_and_ticker['symbol']))\n",
    "print(merge_name_and_ticker_symbol)\n",
    "seq_file=sorted([int(i.split('.')[0]) for i in os.listdir(path)])\n",
    "pd_lst=pd.DataFrame()\n",
    "num=0\n",
    "\n",
    "for i in [str(x)+'.csv' for x in seq_file]:\n",
    "    if os.path.getsize(path+i)<=0:\n",
    "        continue\n",
    "    print(path+i)\n",
    "    tmp_df=pd.read_csv(path+i)\n",
    "    symbol = list( set([i for i in tmp_df['symbol'] ]) )\n",
    "    seq=int(i.split('.')[0])\n",
    "    for j in symbol:\n",
    "        if j in merge_name_and_ticker_symbol:\n",
    "            merge_name_and_ticker.loc[ merge_name_and_ticker['symbol']==j,'seq']=seq\n",
    "            tmp_df['seq']=seq\n",
    "\n",
    "            if num==0:\n",
    "                pd_lst=tmp_df\n",
    "                num+=1\n",
    "            else:\n",
    "                pd_lst=pd_lst.append(tmp_df,ignore_index = True)\n",
    "                print('11111111111111111111')"
   ]
  },
  {
   "cell_type": "code",
   "execution_count": null,
   "metadata": {
    "collapsed": true
   },
   "outputs": [],
   "source": [
    "backup_pdlst=copy.deepcopy(pd_lst['end_date'])\n",
    "\n",
    "for i in range( len(pd_lst) ):\n",
    "    print('=============',pd_lst.loc[i]['end_date'])\n",
    "    year=pd_lst.loc[i]['end_date'].split('-')[0]\n",
    "    month=pd_lst.loc[i]['end_date'].split('-')[1]\n",
    "    date= ( int((int(month)-1)/3) +1)*3\n",
    "    if date>=10:\n",
    "        date=year+str(date)\n",
    "    else:\n",
    "        date=year+'0'+str(date)\n",
    "    print(date)\n",
    "    pd_lst.loc[i,'end_date']=date\n",
    "    \n",
    "backup_merge=copy.deepcopy( merge_name_and_ticker['end_date'] )\n",
    "\n",
    "for i in range( len(merge_name_and_ticker)):\n",
    "    year=merge_name_and_ticker.loc[i]['end_date'].split('-')[0]\n",
    "    month=merge_name_and_ticker.loc[i]['end_date'].split('-')[1]\n",
    "    date= ( int((int(month)-1)/3) +1)*3\n",
    "    if date>=10:\n",
    "        date=year+str(date)\n",
    "    else:\n",
    "        date=year+'0'+str(date)\n",
    "    print(date)\n",
    "    merge_name_and_ticker.loc[i,'end_date']=date\n",
    "\n",
    "merge_name_and_ticker_final=pd.merge(merge_name_and_ticker,pd_lst,left_on=['seq','end_date'],\n",
    "                              right_on=['seq','end_date'],how='outer')\n"
   ]
  },
  {
   "cell_type": "code",
   "execution_count": null,
   "metadata": {},
   "outputs": [],
   "source": [
    "merge_name_and_ticker_final"
   ]
  },
  {
   "cell_type": "code",
   "execution_count": null,
   "metadata": {
    "collapsed": true
   },
   "outputs": [],
   "source": [
    "a = 1061165.0\n",
    "b = 1061768.0\n",
    "c = 1103804.0\n",
    "\n",
    "merge_name_and_ticker.loc[merge_name_and_ticker['CIK']==a]\n",
    "merge_name_and_ticker_final.loc[merge_name_and_ticker_final['CIK']==a].to_csv(path+str(a)+'.csv')\n",
    "merge_name_and_ticker_final.loc[merge_name_and_ticker_final['CIK']==b].to_csv(path+str(b)+'.csv')"
   ]
  },
  {
   "cell_type": "code",
   "execution_count": null,
   "metadata": {
    "collapsed": true
   },
   "outputs": [],
   "source": [
    "# Below is correlation of result\n",
    "\n",
    "for i in range(len(check)):\n",
    "    print('dsf')\n",
    "    name = check.iloc[i]['Name']\n",
    "    print( name )\n",
    "    merge_name_and_ticker_final.loc[\n",
    "        merge_name_and_ticker_final['Name']== name ,'symbol_x']=check.iloc[i]['symble']\n",
    "\n",
    "check.to_csv('/Users/Irene/Desktop/M/check.csv')\n",
    "\n",
    "check_lst=pd.DataFrame()\n",
    "num=0\n",
    "for i in os.listdir(path):\n",
    "    print(path+i)\n",
    "    tmp_df=pd.read_csv(path+'/'+i)\n",
    "    tmp_df['seq']=seq\n",
    "    if num==0:\n",
    "        check_lst=tmp_df\n",
    "        num+=1\n",
    "    else:\n",
    "        check_lst=check_lst.append(tmp_df,ignore_index = True)\n",
    "        print('11111111111111111111')\n",
    "\n",
    "\n",
    "for i in range( len(check_lst)):\n",
    "    year=check_lst.loc[i]['end_date'].split('-')[0]\n",
    "    month=check_lst.loc[i]['end_date'].split('-')[1]\n",
    "    date= ( int((int(month)-1)/3) +1)*3\n",
    "    if date>=10:\n",
    "        date=year+str(date)\n",
    "    else:\n",
    "        date=year+'0'+str(date)\n",
    "    print(date)\n",
    "    check_lst.loc[i,'end_date']=date\n",
    "check_lst\n",
    "\n",
    "merge_name_and_ticker_final_1=pd.merge(merge_name_and_ticker_final,check_lst,left_on=['symbol_x','end_date'],\n",
    "                              right_on=['symbol','end_date'],how='outer')\n",
    "\n",
    "a = 1061165.0\n",
    "b = 1061768.0\n",
    "c = 1103804.0\n",
    "\n",
    "merge_name_and_ticker_final_1.loc[merge_name_and_ticker_final_1['CIK']==a].to_csv(path+str(a)+'.csv')\n",
    "merge_name_and_ticker_final_1.loc[merge_name_and_ticker_final_1['CIK']==b].to_csv(path+str(b)+'.csv')"
   ]
  }
 ],
 "metadata": {
  "kernelspec": {
   "display_name": "Python 3",
   "language": "python",
   "name": "python3"
  },
  "language_info": {
   "codemirror_mode": {
    "name": "ipython",
    "version": 3
   },
   "file_extension": ".py",
   "mimetype": "text/x-python",
   "name": "python",
   "nbconvert_exporter": "python",
   "pygments_lexer": "ipython3",
   "version": "3.6.8"
  }
 },
 "nbformat": 4,
 "nbformat_minor": 2
}
